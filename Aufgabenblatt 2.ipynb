{
 "cells": [
  {
   "cell_type": "markdown",
   "metadata": {},
   "source": [
    "# Aufgabenblatt 2 | Modellverbesserung: drei Ampelphasen\n",
    "\n",
    "Auf dem ersten Übungsblatt wurden Ampeln mit nur zwei Phasen, rot und grün, betrachtet. Um die Realität besser abbilden zu können nehmen wir nun noch die Phase gelb dazu. \n",
    "\n",
    "![](images/gelbe-ampel.jpg)"
   ]
  },
  {
   "cell_type": "markdown",
   "metadata": {},
   "source": [
    "## Aufgabe 1\n",
    "\n",
    "Der Code um eine grüne bzw. eine rote Ampel mit zwei Boxen zu erzeugen sah so aus:\n",
    "```julia\n",
    "# Box 1\n",
    "rgbTop = [ NaN, NaN, NaN ];\n",
    "\n",
    "# Box 2\n",
    "rgbBottom = [ NaN, NaN, NaN ];\n",
    "\n",
    "MachineLearning.Ampel(rgbTop, rgbBottom)\n",
    "```\n",
    "\n",
    "**Auftrag 1.1:**\n",
    "\n",
    "_Verändert den Code so, dass eine gelbe Ampel wie in Abbildung 1 dargestellt wird. Tragt den neuen Code in das untere Feld ein._"
   ]
  },
  {
   "cell_type": "code",
   "execution_count": null,
   "metadata": {},
   "outputs": [],
   "source": [
    "include(\"./codes/MachineLearning.jl\")"
   ]
  },
  {
   "cell_type": "code",
   "execution_count": null,
   "metadata": {},
   "outputs": [],
   "source": [
    "# Box 1\n",
    "rgbTop = [ 70, 70, 70 ];\n",
    "\n",
    "# Box 2\n",
    "rgbMiddle = [ 180, 180, 0 ];\n",
    "\n",
    "# Box 3\n",
    "rgbBottom = [ 70, 70, 70 ];\n",
    "\n",
    "MachineLearning.Ampel(rgbTop, rgbMiddle, rgbBottom)"
   ]
  },
  {
   "cell_type": "markdown",
   "metadata": {},
   "source": [
    "## Aufgabe 2\n",
    "Aus den Vektoren mit zwei Einträgen vom ersten Modell werden nun Vektoren mit drei Einträgen, welche die zusätzliche Ampelphase berücksichtigen.\n",
    "\n",
    "**Auftrag 2.1:**\n",
    "\n",
    "_Drückt den Run-Button._"
   ]
  },
  {
   "cell_type": "code",
   "execution_count": null,
   "metadata": {},
   "outputs": [],
   "source": [
    "MachineLearning.PunkteAnzeigen()"
   ]
  },
  {
   "cell_type": "markdown",
   "metadata": {},
   "source": [
    "Euch wird ein neuer Datensatz aus 100 grünen, 100 roten und 100 gelben Ampeln angezeigt. Wenn ihr mit dem Zeiger über die Abbildung geht, könne ihr durch Klicken und Bewegen des Mauszeigers die Abbildung drehen.\n",
    "\n",
    "_Benutzt die Drehfunktion um die Abbildung zu bewegen._"
   ]
  },
  {
   "cell_type": "markdown",
   "metadata": {},
   "source": [
    "**Frage 2.2:**\n",
    "\n",
    "Auf dem ersten Arbeitsblatt habt ihr die Daten mit Geraden separiert. _Was würdet ihr hier benutzen um sie zu trennen?_"
   ]
  },
  {
   "cell_type": "markdown",
   "metadata": {},
   "source": [
    "## Aufgabe 3\n",
    "Eine Ebene kann man in der Mathematik auf verschiedene Weisen beschreiben. Aus der Schule kennt ihr eventuell schon die Parameterform:\n",
    "\n",
    "![](images/ebene-parameterform.png)\n",
    "\n",
    "Hier wird die Ebene durch einen Stützvektor $\\vec{OA}$ und die beiden Richtungsvektoren $\\vec{AC}$ und $\\vec{AB}$ beschrieben. Es werden also drei Punkte $A$, $B$ und $C$ benötigt um die Gleichung für die Ebene aufzustellen:\n",
    "\n",
    "$$\n",
    "\\begin{equation}\n",
    "E: \\vec x = \\vec {OA} + s \\cdot \\vec {AC} + r \\cdot \\vec {AB}\n",
    "\\end{equation}\n",
    "$$\n",
    "\n",
    "Wie auf Blatt 1 bereits bei einer Gerade gesehen, kann man auch eine Ebene durch die Normalenform ausdrücken:\n",
    "\n",
    "![](images/ebene-normalenform.png)\n",
    "\n",
    "Hier wird die Ebene durch einen Stützvektor $\\vec{p}$ und den Normalenvektor $\\vec{n}$ beschrieben. Jeder Punkt mit einem Ortsvektor liegt genau dann in der Ebene, wenn folgende Bedingung gilt:\n",
    "\n",
    "$$\n",
    "\\begin{equation}\n",
    "    \\vec n * (\\vec x-\\vec p)=0\n",
    "\\end{equation}\n",
    "$$\n",
    "\n",
    "dabei steht  für das Skalarprodukt zweier Vektoren. Das Skalarprodukt kennt ihr schon vom ersten Arbeitsblatt:\n",
    "Stehen zwei Vektoren senkrecht zueinander, so ist das Skalarprodukt der beiden Vektoren $0$. Damit ist Gleichung (2) anschaulich nachvollziehbar: Der Normalenvektor steht nach seiner Definition senkrecht auf der Ebene. Alle Verbindungsvektoren  von Punkt $P$ zu Punkten $X$, die in der Ebene liegen, verlaufen ebenfalls in der Ebene. Deshalb steht der Normalenvektor auch senkrecht auf den Verbindungsstrecken. Die Bedingung (2) beschreibt also eine Ebene\n",
    "\n",
    "$$\n",
    "\\begin{equation}\n",
    "    E:\\vec n * (\\vec x-\\vec p)=0\n",
    "\\end{equation}\n",
    "$$\n",
    "\n",
    "Ihr sollt nun untersuchen, was mit Punkten $X$ passiert, die nicht in der Ebene liegen. Dazu seht ihr hier wieder die Definition des Skalarproduktes von Blatt 1.\n",
    "\n",
    "$$\n",
    "\\begin{equation}\n",
    "    \\vec a * \\vec b = cos(\\alpha)\\cdot|\\vec a| \\cdot |\\vec b|\n",
    "\\end{equation}\n",
    "$$\n",
    "\n",
    "In der folgenden Abbildung sind drei Fälle dargestellt. Einmal liegt der Punkt in, einmal oberhalb und einmal unterhalb der Ebene. \n",
    "\n",
    "Fall 1: Punkt in der Ebene | Fall 2: Normalenverktor zeigt in die Richtung, in der der Punkt liegt | Fall 3: Normalenvektor zeigt in die Richtung, in der der Punkt liegt\n",
    "---|---|---\n",
    "![](images/fall-in-ebene.png) | ![](images/fall-oberhalb.png) | ![](images/fall-unterhalb.png)\n"
   ]
  },
  {
   "cell_type": "markdown",
   "metadata": {},
   "source": [
    "**Auftrag 3.1:**\n",
    "\n",
    "_Stellt auf dem Antwortzettel unter 3.1 eine allgemeine Fallunterscheidung für Formel (4) für die drei oben gezeigten Fälle 1-3 auf. Überlegt euch, warum es ausreicht nur Winkel zwischen 0° und 180° zu betrachten!_\n",
    "\n",
    "Nutzt bei Bedarf die Hilfekarten.\n",
    "\n",
    "**Auftrag 3.2:**\n",
    "\n",
    "_Übertragt eure Fallunterscheidung auf die Ebenengleichung (3): Vervollständigt dazu die Fallunterscheidung und den Satz bei Auftrag 3.2._"
   ]
  },
  {
   "cell_type": "markdown",
   "metadata": {},
   "source": [
    "## Modellierungsschritt: vereinfachtes Modell\n",
    "\n",
    "In der folgenden Aufgabe gehen wir zunächst davon aus, dass die Ampeln nur in zwei Klassen aufgeteilt werden. Die eine Klasse setzt sich aus den roten und gelben Ampeln zusammen, die andere aus den grünen Ampeln. Diesen Modellierungsschritt machen wir um zu testen, ob sich unser Verfahren für zweidimensionale Daten von Blatt 1auf dreidimensionale Daten übertragen lässt. \n",
    "\n",
    "## Aufgabe 4\n",
    "\n",
    "Nun sollen die Datenpunkte aus Aufgabe 2 durch die _beste_ Ebene getrennt werden. Im Grunde wird das gleiche Verfahren angesetzt, dass ihr zur Berechnung der _besten_ Gerade auf Blatt eins erarbeitet habt. Da es nun jedoch mehr Datenpunkte gibt und diese auch noch dreidimensional sind, wird die Funktion, die optimiert werden, soll noch ein wenig verändert.\n",
    "\n",
    "**Auftrag 4.1:**\n",
    "\n",
    "Drückt den Run-Button."
   ]
  },
  {
   "cell_type": "code",
   "execution_count": null,
   "metadata": {},
   "outputs": [],
   "source": []
  }
 ],
 "metadata": {
  "@webio": {
   "lastCommId": null,
   "lastKernelId": null
  },
  "kernelspec": {
   "display_name": "Julia 1.1.0",
   "language": "julia",
   "name": "julia-1.1"
  },
  "language_info": {
   "file_extension": ".jl",
   "mimetype": "application/julia",
   "name": "julia",
   "version": "1.1.0"
  }
 },
 "nbformat": 4,
 "nbformat_minor": 2
}
