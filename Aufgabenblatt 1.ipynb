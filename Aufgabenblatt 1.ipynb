{
 "cells": [
  {
   "cell_type": "markdown",
   "metadata": {},
   "source": [
    "# Aufgabenblatt 1 | Autonomes Fahren\n",
    "## Aufgabe 1\n",
    "Wir wollen zunächst ein vereinfachtes Modell der Ausgangssituation herstellen. Lest dazu den folgenden Text:\n",
    "Ein Automobilhersteller will autonomes Fahren für seine neuen Autos entwickeln. Die Autos sollen erkennen, ob eine voraus liegende Ampel rot oder grün ist. Für ein vereinfachtes Modell gehen wir davon aus, dass eine Ampel aus zwei untereinander angebrachten Boxen besteht:\n",
    "\n",
    "![](./images/SkizzeAmpel.jpg)\n",
    "\n",
    "Farben werden üblicherweise als RGB-Wert in der Form $[r, g, b]$ angegeben. Dabei steht $r$ für den Anteil der roten, $g$ für den Anteil der grünen und $b$ für den Anteil der blauen Farbe. Die Werte gehen jeweils von $0-255$. Ein rein blauer Farbton würde beispielsweise so aussehen: $[0,0,255]$. \n",
    "\n",
    "Für schwarz müssen alle Einträge gleich gewählt werden und sollten maximal bis 50 gehen! (nein: Schwarz ist [0,0,0])"
   ]
  },
  {
   "cell_type": "markdown",
   "metadata": {},
   "source": [
    "**Auftrag 1.1:**\n",
    "\n",
    "_Erzeugt nun selber verschiedene rote Ampeln, indem ihr verschiedene Werte für NaN in den Klammern bei `rgbTop` und `rgbBottom` eintragt._"
   ]
  },
  {
   "cell_type": "code",
   "execution_count": null,
   "metadata": {},
   "outputs": [],
   "source": [
    "# Hier nichts ändern\n",
    "include(\"./codes/MachineLearning.jl\")"
   ]
  },
  {
   "cell_type": "code",
   "execution_count": null,
   "metadata": {},
   "outputs": [],
   "source": [
    "# Box 1\n",
    "rgbTop = [ NaN, NaN, NaN ];\n",
    "\n",
    "# Box 2\n",
    "rgbBottom = [ NaN, NaN, NaN ];\n",
    "\n",
    "MachineLearning.Ampel(rgbTop, rgbBottom)"
   ]
  },
  {
   "cell_type": "markdown",
   "metadata": {},
   "source": [
    "**Auftrag 1.2:**\n",
    "\n",
    "_Erzeugt nun selber verschiedene rote Ampeln, indem ihr verschiedene Werte für NaN in den Klammern bei `rgbTop` und `rgbBottom` eintragt._"
   ]
  },
  {
   "cell_type": "code",
   "execution_count": null,
   "metadata": {},
   "outputs": [],
   "source": [
    "# Box 1\n",
    "rgbTop = [ NaN, NaN, NaN ];\n",
    "\n",
    "# Box 2\n",
    "rgbBottom = [ NaN, NaN, NaN ];\n",
    "\n",
    "MachineLearning.Ampel(rgbTop, rgbBottom)"
   ]
  },
  {
   "cell_type": "markdown",
   "metadata": {},
   "source": [
    "## Aufgabe 2\n",
    "In Aufgabe 1 habt ihr gesehen, dass immer drei Werte $[r, g, b]$ für eine Box abgespeichert werden müssen. Für eine Ampel mit 2 Boxen hat man also immer insgesamt 6 Werte. Bei einem großen Datensatz mit vielen Ampeln sammeln sich dann sehr viele Daten an und die Rechenzeit steigt. \n",
    "\n",
    "Um dem entgegen zu wirken, wollen wir **für jede Box nur einen Wert abspeichern**, der sich aus den drei Werten ergibt. Auf diese Weise können wir auch das **vereinfachte, mathematische** Modell für das **reale** Problem aufstellen. Enthält jede Box nur einen Wert, so kann man die zwei Boxen als einen Vektor mit zwei Einträgen darstellen, wie in der untenstehenden Abbildung zu sehen ist.\n",
    "\n",
    "![](./images/SkizzeModell.jpg)"
   ]
  },
  {
   "cell_type": "markdown",
   "metadata": {},
   "source": [
    "**Auftrag 2.1:**\n",
    "\n",
    "_Informiert euch bei Wikipedia über den Grauwert in der Bildverarbeitung und gebt die Formel zu Berechnung des Grauwertes im Code ein:_\n",
    "\n",
    "Hinweis 1: Ihr könnt ihr eurer Formel `r`, `g` und `b` verwenden.\n",
    "\n",
    "Hinweis 2: Komma-Zahlen werden mit einem Punkt geschrieben: **3.6** nicht 3,6"
   ]
  },
  {
   "cell_type": "code",
   "execution_count": null,
   "metadata": {},
   "outputs": [],
   "source": [
    "Grauwert(r, g, b) = NaN;\n",
    "\n",
    "MachineLearning.GrauwertUeberpruefung(Grauwert)\n",
    "MachineLearning.AmpelSW(rgbTop, rgbBottom, Grauwert)"
   ]
  },
  {
   "cell_type": "markdown",
   "metadata": {},
   "source": [
    "## Aufgabe 3\n",
    "Auf dem Antwortblatt seht ihr ein ähnliches Koordinatensystem wie das, was ihr in Aufgabe 2 erhalten habt. Es werden auch wieder die Grauwerte der Ampelphasen abgebildet. Statt 8 Punkten sind jedoch die Einträge der Vektoren von 200 Ampeln eingezeichnet.\n",
    "\n",
    "Diese Punkte sind die **Trainingsdaten** für den Lernalgorithmus, mit dem **unbekannte Test**-Ampeln **später** automatisch erkannt werden sollen. Im Einstiegsvortrag habt ihr bereits etwas von einer **Trennfunktion** gehört. "
   ]
  },
  {
   "cell_type": "markdown",
   "metadata": {},
   "source": [
    "**Auftrag 3.1:**\n",
    "\n",
    "_Zeichnet eine möglichst einfache Funktion in das Koordinatensystem, welche die beiden Punktwolken voneinander trennt._\n",
    "\n",
    "Dies ist eure Trennfunktion. Punkte, die oberhalb liegen werden zur Klasse der grünen Ampeln zugeordnet. Punkte, die darunter liegen werden zur Klasse der roten Ampeln zugeordnet."
   ]
  },
  {
   "cell_type": "markdown",
   "metadata": {},
   "source": [
    "**Auftrag 3.2:**\n",
    "Die Kamera am Auto erkennt eine Ampel P mit den Werten $x_1 = 20$ und $x_2 = 50$.\n",
    "\n",
    "_Zeichnet den zugehörigen Punkt in das Koordinatensystem. Zu welcher Klasse ordnet eure Gerade den Punkt zu?_\n",
    "\n",
    "![](./images/AB1A3.2.png)\n",
    "\n",
    "Wie ihr sehen könnt, gibt es viele verschiedene Trennfunktionen für einen Datensatz. Die Frage ist nun, welche die Daten am besten trennt."
   ]
  },
  {
   "cell_type": "markdown",
   "metadata": {},
   "source": [
    "Um zu testen, wie gut eure Gerade und die drei Geraden a,b und c zum Klassifizieren geeignet sind, sollt ihr die folgenden Ampeln einordnen lassen. Die Daten, welche die Trennfunktion testen nennt man Testdaten.\n",
    "Vergleicht die zugeteilte Klasse mit dem darüber angezeigtem Bild der Ampel und notiert in der Tabelle 1 auf dem Antwortblatt, ob die Gerade die Ampel richtig oder falsch klassifiziert. Wiederholt dies für alle 6 Ampeln!\n",
    "\n",
    "* Ampel 1: $x_1=30$ und $x_2=50$\n",
    "* Ampel 2: $x_1=40$ und $x_2=120$ \n",
    "* Ampel 3: $x_1=45$ und $x_2=58$\n",
    "* Ampel 4: $x_1=70$ und $x_2=30$\n",
    "\n",
    "**TODO: Hier fehlen Ampel 5 und 6**\n",
    "\n",
    "**Auftrag 3.3:**\n",
    "\n",
    "_Gebt im Code unter der Geradengleichung in der Form  die Werte für die Steigung m und den y-Achsenabschnitt eurer Gerade ein._\n",
    "\n",
    "Hinweis: Um die Steigung eurer Gerade zu bestimmen, könnt ihr das Steigungsdreieck nutzen."
   ]
  },
  {
   "cell_type": "code",
   "execution_count": null,
   "metadata": {},
   "outputs": [],
   "source": [
    "m = NaN;\n",
    "b = NaN;"
   ]
  },
  {
   "cell_type": "markdown",
   "metadata": {},
   "source": [
    "Gebt hier die Ampelnummer und die x1, x2 Werte der Ampel ein, die ihr testen wollt:"
   ]
  },
  {
   "cell_type": "code",
   "execution_count": null,
   "metadata": {},
   "outputs": [],
   "source": [
    "Ampel = NaN; # Nummer der Ampel hier eintragen\n",
    "x1 = NaN; # Wert für die obere Box\n",
    "x2 = NaN; # Wert für die untere Box\n",
    "\n",
    "MachineLearning.Ampeltest(Ampel, m, b, x1, x2)"
   ]
  },
  {
   "cell_type": "markdown",
   "metadata": {},
   "source": [
    "Euch wird dann eine Tabelle angezeigt, in der die jeweilige Gerade, die zugeteilte Klasse gelistet wird. Unter 'e' wird eure eigene Gerade gelistet. Außerdem seht ihr ein Bild der Ampel. \n",
    "\n",
    "**Frage 3.4:**\n",
    "\n",
    "_Welche Gerade klassifiziert die Testdaten am besten? Könnt ihr das auch schon am Verlauf der Geraden in Abbildung 3 erklären?_"
   ]
  },
  {
   "cell_type": "markdown",
   "metadata": {},
   "source": [
    "## Aufgabe 4\n",
    "\n",
    "In Frage 3.3 habt ihr anhand von 6 Testdaten entschieden, welche Gerade die Beste ist. Es gibt noch eine andere Möglichkeit, **ohne die Nutzung der Testdaten** zu entscheiden, welche die beste Trennfunktion für einen Datensatz ist. \n",
    "\n",
    "**Auftrag 4.1:**\n",
    "\n",
    "Auf dem Antwortblatt sind vier verschiedene Trainingsdatensätze dargestellt. \n",
    "\n",
    "_Zeichnet in jedes Koordinatensystem die Trennfunktion ein, **welche die Daten eurer Meinung nach am besten trennt**. Umkreist außerdem jeweils die Datenpunkte, die ihr als Orientierung genutzt habt, um die Trennfunktion zu zeichnen._\n",
    "\n",
    "**Frage 4.2:**\n",
    "\n",
    "_Worauf habt ihr beim Zeichnen geachtet? Was zeichnet für euch die beste Gerade aus?_"
   ]
  },
  {
   "cell_type": "markdown",
   "metadata": {},
   "source": [
    "## Aufgabe 5\n",
    "\n",
    "Beim Zeichnen der Geraden, habt ihr vermutlich darauf geachtet, dass die Gerade nicht zu nah an den Trainingsdatenpunkten liegt. Der Bereich um die Gerade, in dem keine Datenpunkte liegen wird **Margin** genannt. Die beste Gerade zeichnet sich dadurch aus, dass der Margin möglichst groß ist.\n",
    "\n",
    "In der folgenden Abbildung sind noch vier weitere Datensätze mit jeweils 200 verschiedenen Trainingsdaten abgebildet. Es sind jeweils die Punkte umkreist, die **den kürzesten Abstand** zu den jeweiligen Geraden haben. Könnt ihr anhand der Abstände zu den nächst gelegenen Punkten entscheiden, welche jeweils die beste Gerade ist?\n",
    "\n",
    "![](./images/Abstand1.png)\n",
    "![](./images/Abstand2.png)\n",
    "![](./images/Abstand3.png)\n",
    "![](./images/Abstand4.png)"
   ]
  },
  {
   "cell_type": "markdown",
   "metadata": {},
   "source": [
    "**Auftrag 5.1:**\n",
    "\n",
    "_Tragt jeweils die beste Gerade zur passenden Abbildung ein: Ändert nur das `NaN` und lasst die `' '` stehen!_"
   ]
  },
  {
   "cell_type": "code",
   "execution_count": null,
   "metadata": {},
   "outputs": [],
   "source": [
    "Abbildung1 = 'NaN';\n",
    "Abbildung2 = 'NaN';\n",
    "Abbildung3 = 'NaN';\n",
    "Abbildung4 = 'NaN';\n",
    "MachineLearning.Abstandtest(Abbildung1,Abbildung2,Abbildung3,Abbildung4);"
   ]
  },
  {
   "cell_type": "markdown",
   "metadata": {},
   "source": [
    "**Auftrag 5.2:** \n",
    "\n",
    "Angenommen es liegt ein neuer Datensatz aus Trainingsdaten vor. \n",
    "\n",
    "__Formuliert einen wörtlichen Befehl an den Computer, mit dem er die beste Gerade finden soll:__\n",
    "\n",
    "\"Finde die Gerade, die...\" "
   ]
  },
  {
   "cell_type": "markdown",
   "metadata": {},
   "source": [
    "Damit der Computer die Trennfunktion berechnen kann müsst ihr zunächst eine mathematische Formel für die Gerade und dann für den Abstand aufstellen. \n",
    "\n",
    "Eine Gerade kann man in der Mathematik auf verschiedene Weisen beschreiben. Aus der Schule kennt ihr eventuell schon die Parameterform:\n",
    "\n",
    "![](./images/gerade1.png)\n",
    "\n",
    "Hier wird die Gerade durch einen Stützvektor $\\vec{OA}$ (schwarz) und einen Richtungsvektor $\\vec{AB}$ (grün) beschrieben. Es werden also nur zwei Punkte A und B benötigt um die Gleichung für die Gerade aufzustellen:\n",
    "\n",
    "$$\\begin{equation} g: \\vec{x} = \\vec{OA} + s \\cdot \\vec{AB} \\end{equation}$$\n",
    "\n",
    "Eine andere Darstellungsmöglichkeit, welche für unsere Anwendung besser geeignet ist, ist die Normalenform:\n",
    "\n",
    "![](./images/gerade2.png)\n",
    "\n",
    "Hier wird die Gerade $g$ durch einen Stützvektor $\\vec{p}$ (schwarz) und den Normalenvektor $\\vec{n}$ (rot) beschrieben. Jeder Punkt $X$ mit einem Ortsvektor $\\vec{x}$ (orange) liegt genau dann auf der Geraden $g$, wenn folgende Bedingung gilt:\n",
    "\n",
    "$$\\begin{equation} \\vec{n} * (\\vec{x} - \\vec{p}) = 0, \\end{equation}$$\n",
    "       \n",
    "dabei steht $*$ für das Skalarprodukt zweier Vektoren. Das Skalarprodukt zweier Vektoren ist folgendermaßen definiert:\n",
    "\n",
    "$$\\begin{equation} \\vec{a} * \\vec{b} = cos(\\alpha) \\cdot |\\vec{a}| \\cdot |\\vec{b}|, \\end{equation}$$\n",
    "\n",
    "was auch wie folgt umgeschrieben werden kann:\n",
    "\n",
    "$$cos(\\alpha) = \\frac{\\vec{a} * \\vec{b}}{|\\vec{a}| \\cdot |\\vec{b}|},$$\n",
    "\n",
    "wobei $\\alpha$ für den Winkel zwischen den beiden Vektoren und $|\\vec{a}|$ für den Betrag, also die Länge des Vektors steht.\n",
    "\n",
    "Stehen zwei Vektoren senkrecht zueinander, so ist das Skalarprodukt der beiden 0. Damit ist Gleichung (2) anschaulich nachvollziehbar: Der Normalenvektor steht nach seiner Definition senkrecht auf der Geraden. Alle Verbindungsvektoren $\\vec{PX}$ (grün) von Punkt $P$ zu Punkten $X$ auf der Gerade verlaufen auf bzw. parallel zu der Geraden. Deshalb steht der Normalenvektor auch senkrecht auf den Verbindungsstrecken.\n",
    "\n",
    "Bedingung (2) stellt also ebenfalls eine Geradengleichung dar:\n",
    "\n",
    "$$\\begin{equation} g: \\vec{n} * (\\vec{x} - \\vec{p}) = 0  \\end{equation}$$"
   ]
  },
  {
   "cell_type": "markdown",
   "metadata": {},
   "source": [
    "**Auftrag 5.3:**\n",
    "\n",
    "_Stellt mit Hilfe der untenstehenden Abbildung und den obigen Informationen eine Formel für den Abstand $d$ eines Punktes $X$ von einer Geraden $g$ auf._\n",
    "\n",
    "Nutzt dazu den Platz auf dem Antwortzettel.\n",
    "\n",
    "![](./images/gerade2.png)"
   ]
  },
  {
   "cell_type": "markdown",
   "metadata": {},
   "source": [
    "**Auftrag 5.4:**\n",
    "\n",
    "_Tragt eure Lösung in den Code ein und überprüft eure Eingabe durch Klick auf \"Run\"._\n",
    "\n",
    "Hinweise:\n",
    "\n",
    "* Betrag eines Vektors: `norm(x)`\n",
    "* Wurzel: `sqrt(x)`\n",
    "* Skalarprodukt: `dot(x, y)"
   ]
  },
  {
   "cell_type": "code",
   "execution_count": null,
   "metadata": {},
   "outputs": [],
   "source": [
    "d(x, p, n) = NaN;\n",
    "MachineLearning.Abstand(d)"
   ]
  },
  {
   "cell_type": "markdown",
   "metadata": {},
   "source": [
    "**Auftrag 5.5:**\n",
    "\n",
    "In der untenstehenden Abbildung sind 4 Trainingsdaten graphisch dargestellt. \n",
    "\n",
    "_Bestimmt den Abstand der Punkte zur Trennfunktion g._\n",
    "\n",
    "![](./images/abstandsberechnung.png)\n",
    "\n",
    "Geradengleichung in **Normalenform**:\n",
    "\n",
    "$$g:  \\left( \\begin{array}{c}-3\\\\4\\end{array} \\right) *\\left( \\left( \\begin{array}{c}x1\\\\x2\\end{array} \\right) - \\left( \\begin{array}{c}4\\\\2\\end{array} \\right)\\right) = 0$$\n",
    "\n",
    "_Gebt dazu die Werte für den Stützvektor, den Normalenvektor und den jeweiligen Datenpunkt in den Code ein und klickt auf \"Run\"._\n",
    "\n",
    "_Tragt die Abstandswerte in die Tabelle auf dem Antwortzettel ein._"
   ]
  },
  {
   "cell_type": "code",
   "execution_count": null,
   "metadata": {},
   "outputs": [],
   "source": [
    "x = [NaN, NaN]; # Tragt hier den jeweiligen Trainigsdatenpunkt ein (aus der obigen Abbildung ablesen)\n",
    "p = [NaN, NaN]; # Tragt hier den Stützvektor ein\n",
    "n = [NaN, NaN]; # Tragt hier den Normalenvektor ein\n",
    "\n",
    "abstand = d(x, p, n)"
   ]
  },
  {
   "cell_type": "markdown",
   "metadata": {},
   "source": [
    "**Frage 5.6:**\n",
    "\n",
    "_Was fällt euch auf, wenn ihr die Abstandswerte mit der Lage des jeweiligen Punktes und seiner Klasse (rot, grün) vergleicht? Erkennt ihr eine Gemeinsamkeit?_"
   ]
  },
  {
   "cell_type": "markdown",
   "metadata": {},
   "source": [
    "## Aufgabe 6\n",
    "\n",
    "Eure Abstandsformel liefert für Trainingspunkte der grünen Ampelklasse ein positives und für Trainingspunkte der roten Ampelklasse ein negatives Vorzeichen. Der Abstand ist in der Mathematik jedoch immer als positiver Wert definiert. Ihr müsst also noch eine Änderung an der Abstandsformel vornehmen. \n",
    "\n",
    "Wie im Einstiegsvortrag schon beschrieben, ist für die Trainings- und Testdaten schon bekannt, welcher Klasse sie angehören. In unserem Fall haben wir einen Datensatz von Ampeln, von denen wir wissen, ob sie grün oder rot sind. Dementsprechend werden die Daten gekennzeichnet. Alle grünen Ampeldaten erhalten das Kennzeichen $t = +1$ und alle roten Ampeln erhalten das Kennzeichen $t = -1$. \n",
    "\n",
    "**Auftrag 6.1:**\n",
    "\n",
    "_Ändert eure Abstandsformel `d(x,p,n)` so um, dass sie ausschließlich positive Werte ausgibt._\n",
    "\n",
    "Hinweis: Nutzt die neuen Informationen über die Kennzeichnungen t. Denkt daran, wieder alle Variablen in den Klammern zu schrieben. "
   ]
  },
  {
   "cell_type": "code",
   "execution_count": null,
   "metadata": {},
   "outputs": [],
   "source": [
    "d(NaN) = NaN;\n",
    "MachineLearning.AbstandKorrigiert(d)"
   ]
  }
 ],
 "metadata": {
  "kernelspec": {
   "display_name": "Julia 1.1.0",
   "language": "julia",
   "name": "julia-1.1"
  },
  "language_info": {
   "file_extension": ".jl",
   "mimetype": "application/julia",
   "name": "julia",
   "version": "1.1.0"
  }
 },
 "nbformat": 4,
 "nbformat_minor": 2
}
